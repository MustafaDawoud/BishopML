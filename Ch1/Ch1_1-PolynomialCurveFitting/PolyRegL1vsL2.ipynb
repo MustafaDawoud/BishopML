{
 "cells": [
  {
   "cell_type": "code",
   "execution_count": 1,
   "metadata": {},
   "outputs": [
    {
     "name": "stdout",
     "output_type": "stream",
     "text": [
      "importing Jupyter notebook from GenerateData.ipynb\n"
     ]
    }
   ],
   "source": [
    "import import_ipynb\n",
    "import GenerateData\n",
    "from GenerateData import Data\n",
    "import numpy as np\n",
    "import math\n",
    "import pandas as pd\n",
    "import matplotlib.pyplot as plt"
   ]
  },
  {
   "cell_type": "code",
   "execution_count": 2,
   "metadata": {},
   "outputs": [],
   "source": [
    "class PolynomialRegeression:\n",
    "    '''\n",
    "    Basic Class for Polynomial Regression to compare different paramaters and different approaches\n",
    "    (using vs not using l2 regularization) \n",
    "    '''\n",
    "    def __init__(self, deg = 1, gradient_desc = True, normal = False):\n",
    "        '''\n",
    "        Constructor\n",
    "        '''  \n",
    "        self.w = []                        #Weight Vector\n",
    "        self.degree = deg                  #Degree of polynomial\n",
    "        self.gradient_desc = gradient_desc #Gradient Descent to compute paramaters\n",
    "        self.normal = normal               #Normal Equation to compute paramaters \n",
    "    \n",
    "    def preprocessPolynomialFeatures(self, X):\n",
    "        newX = [None]*len(X)\n",
    "        for idx, i in enumerate(X):\n",
    "            newX[idx] = [1]\n",
    "            for j in range(0, self.degree):\n",
    "                for k in i:\n",
    "                    newX[idx].append(math.pow(k, j))\n",
    "        \n",
    "        return newX\n",
    "        \n",
    "    \n",
    "    def predict(self, X):\n",
    "        '''\n",
    "        Function to predict, runs y(x, w)\n",
    "        \n",
    "        Params\n",
    "        ======\n",
    "            X (2D-Array): List of data-points by features\n",
    "        '''\n",
    "        result = 0\n",
    "        for i in X:\n",
    "            result += self.w.dot(i)\n",
    "        return result\n",
    "    \n",
    "    def cost_function(self, X, y):\n",
    "        '''\n",
    "        Calculating Sum of Square Error\n",
    "        \n",
    "        Params\n",
    "        ======\n",
    "            X (2D-Array): List of data-points by features\n",
    "            y (1D-Array): List of targets\n",
    "        '''\n",
    "        predictions = self.predict(X) #Get predictions\n",
    "\n",
    "        sq_error = (predictions - y)**2 #Calculate square error\n",
    "        \n",
    "        return 1/2*sq_error.sum() \n",
    "    \n",
    "    def visualizeData(self, X, y):\n",
    "        '''\n",
    "        Plotting data\n",
    "        '''\n",
    "        pred = []\n",
    "        x = [i for i in range(0, len(X))]\n",
    "        for i in X:\n",
    "            pred.append(self.predict(X))\n",
    "        plt.scatter(x,y, c='b')\n",
    "        plt.scatter(x,pred, c='r')\n",
    "        plt.show()\n",
    "        \n",
    "    def fit(self, X, y):\n",
    "        '''\n",
    "        Computing Paramaters\n",
    "        \n",
    "        Params\n",
    "        ======\n",
    "            X (2D-Array): List of data-points by features\n",
    "            y (1D-Array): List of targets\n",
    "        '''\n",
    "        if len(X) == 0 or len(X[0]) == 0:\n",
    "            raise ValueError('X must have a shape greater than 0 columns or 0 rows') \n",
    "        \n",
    "        if len(X) != len(y):\n",
    "            raise ValueError('X and y must have the same number of rows')\n",
    "        \n",
    "        self.w = np.random.randn(len(X[0])) #+1 for bias\n",
    "        print(self.w)\n",
    "        print(self.cost_function(X, y))\n",
    "        if self.gradient_desc:\n",
    "            alpha = 0.001\n",
    "            tolerance = 1e-5\n",
    "            decay = 0.0001\n",
    "            cntr = 0\n",
    "            while True:\n",
    "                prevCost = self.cost_function(X, y)\n",
    "                \n",
    "                for index, i in enumerate(X):\n",
    "                    new_Weights = [None]*len(self.w) #initialize array to be length of weight array\n",
    "                    for idx in range(0, len(i)):\n",
    "                        #New Weight = Weight - ALPHA*[derivative(Cost_Function) wrt w[idx]]\n",
    "                        #Weights need to be update independently of each other\n",
    "                        new_Weights[idx] = self.w[idx] - alpha*(self.w.dot(i) - y[idx])*X[index][idx]\n",
    "                    \n",
    "                self.w = np.array(new_Weights)\n",
    "#                 alpha = alpha - decay*alpha\n",
    "                cost = self.cost_function(X, y)\n",
    "                cntr += 1\n",
    "                print(\"Counter: \", cntr, \"Cost: \", cost)\n",
    "#                 if prevCost < cost:\n",
    "#                     print(\"Error is minimized at weights: \", self.w, \" Using a degree of: \", self.degree)\n",
    "#                     break\n",
    "                if prevCost - cost < tolerance:\n",
    "                    break\n",
    "        \n",
    "        self.visualizeData(X, y)\n",
    "        \n",
    "                            \n",
    "    "
   ]
  },
  {
   "cell_type": "code",
   "execution_count": 5,
   "metadata": {},
   "outputs": [
    {
     "data": {
      "image/png": "[encoded data removed]",
      "text/plain": [
       "<Figure size 432x288 with 1 Axes>"
      ]
     },
     "metadata": {
      "needs_background": "light"
     },
     "output_type": "display_data"
    },
    {
     "name": "stdout",
     "output_type": "stream",
     "text": [
      "[[1, 1.0, 0.0, 0.0], [1, 1.0, 0.1, 0.010000000000000002], [1, 1.0, 0.2, 0.04000000000000001], [1, 1.0, 0.3, 0.09], [1, 1.0, 0.4, 0.16000000000000003], [1, 1.0, 0.5, 0.25], [1, 1.0, 0.6, 0.36], [1, 1.0, 0.7, 0.48999999999999994], [1, 1.0, 0.8, 0.6400000000000001], [1, 1.0, 0.9, 0.81]]\n"
     ]
    }
   ],
   "source": [
    "if __name__ == \"__main__\":\n",
    "    fx = Data()\n",
    "    fx.generateDataPopulation()\n",
    "    model = PolynomialRegeression(deg = 3)\n",
    "    X = model.preprocessPolynomialFeatures(fx.data['x'])\n",
    "    y = fx.data['y']\n",
    "    print(X)\n",
    "#     model.fit(X, y)\n"
   ]
  },
  {
   "cell_type": "code",
   "execution_count": 11,
   "metadata": {},
   "outputs": [
    {
     "name": "stdout",
     "output_type": "stream",
     "text": [
      "21\n"
     ]
    }
   ],
   "source": [
    "a = np.array([1, 2, 3, 4])\n",
    "b = np.array([2, 4, 1, 2])\n",
    "\n",
    "print(a.dot(b))"
   ]
  },
  {
   "cell_type": "code",
   "execution_count": null,
   "metadata": {},
   "outputs": [],
   "source": []
  }
 ],
 "metadata": {
  "kernelspec": {
   "display_name": "Python 3",
   "language": "python",
   "name": "python3"
  },
  "language_info": {
   "codemirror_mode": {
    "name": "ipython",
    "version": 3
   },
   "file_extension": ".py",
   "mimetype": "text/x-python",
   "name": "python",
   "nbconvert_exporter": "python",
   "pygments_lexer": "ipython3",
   "version": "3.7.0"
  }
 },
 "nbformat": 4,
 "nbformat_minor": 2
}
