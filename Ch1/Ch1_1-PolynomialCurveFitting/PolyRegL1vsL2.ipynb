{
 "cells": [
  {
   "cell_type": "code",
   "execution_count": 51,
   "metadata": {},
   "outputs": [],
   "source": [
    "import import_ipynb\n",
    "import GenerateData\n",
    "from GenerateData import Data\n",
    "import numpy as np\n",
    "import math\n",
    "import pandas as pd\n",
    "import matplotlib.pyplot as plt\n",
    "from numpy.linalg import pinv"
   ]
  },
  {
   "cell_type": "code",
   "execution_count": 86,
   "metadata": {},
   "outputs": [],
   "source": [
    "class PolynomialRegeression:\n",
    "    '''\n",
    "    Basic Class for Polynomial Regression to compare different paramaters and different approaches\n",
    "    (using vs not using l2 regularization) \n",
    "    '''\n",
    "    def __init__(self, deg = 1, GD = True):\n",
    "        '''\n",
    "        Constructor\n",
    "        \n",
    "        Params\n",
    "        ======\n",
    "            deg (int): degree of fit for model\n",
    "            GD (bool): determines whether model should be fit using gradient descent or the normal equation\n",
    "                       pinv(transpose(X).dot(X)).dot(transpose(X)).dot(y) ---- Pinv as we need to handle \n",
    "                       singular matrix case\n",
    "        '''  \n",
    "        self.w = []             #Weight Vector\n",
    "        self.degree = deg       #Degree of polynomial\n",
    "        self.gradient_desc = GD #Gradient Descent to compute paramaters\n",
    "    \n",
    "    def preprocessPolynomialFeatures(self, X):\n",
    "        '''\n",
    "        Function to preprocess X features to desired degree of fit\n",
    "        \n",
    "        Params\n",
    "        ======\n",
    "            X (array): Input features\n",
    "        '''\n",
    "        newX = [None]*len(X)\n",
    "        temp = self.degree + 1\n",
    "        for idx, i in enumerate(X):\n",
    "            newX[idx] = [1.0, i[0]]\n",
    "            for j in range(2, temp):\n",
    "                newX[idx].append(math.pow(newX[idx][1], j))\n",
    "        \n",
    "        return newX\n",
    "        \n",
    "    \n",
    "    def predict(self, X):\n",
    "        '''\n",
    "        Function to predict, runs y(x, w)\n",
    "        \n",
    "        Params\n",
    "        ======\n",
    "            X (1D-Array): 1 Tuple of features\n",
    "        '''\n",
    "#         result = 0\n",
    "        result = self.w.dot(X)\n",
    "        return result\n",
    "    \n",
    "    def cost_function(self, X, y):\n",
    "        '''\n",
    "        Calculating Sum of Square Error\n",
    "        \n",
    "        Params\n",
    "        ======\n",
    "            X (2D-Array): List of data-points by features\n",
    "            y (1D-Array): List of targets\n",
    "        '''\n",
    "        predictions = []\n",
    "        \n",
    "        for i in X:\n",
    "            predictions.append(self.predict(i)) #Get predictions\n",
    "        \n",
    "        predictions = np.array(predictions)\n",
    "        \n",
    "        sq_error = (predictions - y)**2 #Calculate square error\n",
    "        \n",
    "        return 1/(2*len(X))*sq_error.sum() \n",
    "    \n",
    "    def visualizeData(self, X, y):\n",
    "        '''\n",
    "        Plotting data\n",
    "        '''\n",
    "        pred = []\n",
    "        x = [i/len(X) for i in range(0, len(X))]\n",
    "        for i in X:\n",
    "            pred.append(self.predict(i))\n",
    "        plt.scatter(x,y, c='b')\n",
    "        plt.scatter(x,pred, c='r')\n",
    "        plt.show()\n",
    "        \n",
    "    def fit(self, X, y):\n",
    "        '''\n",
    "        Computing Paramaters\n",
    "        \n",
    "        Params\n",
    "        ======\n",
    "            X (2D-Array): List of data-points by features\n",
    "            y (1D-Array): List of targets\n",
    "        '''\n",
    "        if len(X) == 0 or len(X[0]) == 0:\n",
    "            raise ValueError('X must have a shape greater than 0 columns or 0 rows') \n",
    "        \n",
    "        if len(X) != len(y):\n",
    "            raise ValueError('X and y must have the same number of rows')\n",
    "        \n",
    "        self.w = np.random.randn(len(X[0])) #+1 for bias\n",
    "        print(self.w)\n",
    "        print(self.cost_function(X, y))\n",
    "        if self.gradient_desc:\n",
    "            alpha = 0.001\n",
    "            tolerance = 1e-10\n",
    "            decay = 0.1\n",
    "            cntr = 0\n",
    "            while True:\n",
    "                prevCost = self.cost_function(X, y)\n",
    "                \n",
    "                for index, i in enumerate(X):\n",
    "                    new_Weights = [None]*len(self.w) #initialize array to be length of weight array\n",
    "                    for idx in range(0, len(i)):\n",
    "                        #New Weight = Weight - ALPHA*[derivative(Cost_Function) wrt w[idx]]\n",
    "                        #Weights need to be update independently of each other\n",
    "                        new_Weights[idx] = self.w[idx] - alpha*(self.w.dot(i) - y[idx])*X[index][idx]\n",
    "                    \n",
    "                self.w = np.array(new_Weights)\n",
    "                cost = self.cost_function(X, y)\n",
    "                cntr += 1\n",
    "                print(\"Counter: \", cntr, \"Cost: \", cost)\n",
    "                if cntr % 100 == 0:\n",
    "                    self.visualizeData(X, y)\n",
    "                if prevCost - cost < tolerance:\n",
    "                    break\n",
    "        \n",
    "        else:\n",
    "            X = np.array(X)\n",
    "            y = np.array(y)\n",
    "            self.w = pinv(X.transpose().dot(X)).dot(X.transpose()).dot(y)\n",
    "            \n",
    "        self.visualizeData(X, y)\n",
    "        print(self.w)\n",
    "        \n",
    "                            \n",
    "    "
   ]
  },
  {
   "cell_type": "code",
   "execution_count": 91,
   "metadata": {},
   "outputs": [
    {
     "data": {
      "image/png": "[encoded data removed]",
      "text/plain": [
       "<Figure size 432x288 with 1 Axes>"
      ]
     },
     "metadata": {
      "needs_background": "light"
     },
     "output_type": "display_data"
    },
    {
     "name": "stdout",
     "output_type": "stream",
     "text": [
      "[[0.0], [0.1], [0.2], [0.3], [0.4], [0.5], [0.6], [0.7], [0.8], [0.9]]\n",
      "[[1.0, 0.0, 0.0, 0.0], [1.0, 0.1, 0.010000000000000002, 0.0010000000000000002], [1.0, 0.2, 0.04000000000000001, 0.008000000000000002], [1.0, 0.3, 0.09, 0.026999999999999996], [1.0, 0.4, 0.16000000000000003, 0.06400000000000002], [1.0, 0.5, 0.25, 0.125], [1.0, 0.6, 0.36, 0.21599999999999997], [1.0, 0.7, 0.48999999999999994, 0.3429999999999999], [1.0, 0.8, 0.6400000000000001, 0.5120000000000001], [1.0, 0.9, 0.81, 0.7290000000000001]]\n",
      "(10, 4) 10\n",
      "[-1.11333574 -0.17307145  1.12651993  1.27482221]\n",
      "1.056977270110152\n"
     ]
    },
    {
     "data": {
      "image/png": "[encoded data removed]",
      "text/plain": [
       "<Figure size 432x288 with 1 Axes>"
      ]
     },
     "metadata": {
      "needs_background": "light"
     },
     "output_type": "display_data"
    },
    {
     "name": "stdout",
     "output_type": "stream",
     "text": [
      "[ -0.30085576  14.85431043 -42.37608016  28.17449218]\n"
     ]
    }
   ],
   "source": [
    "if __name__ == \"__main__\":\n",
    "    fx = Data()\n",
    "    fx.generateTrainData()\n",
    "    model = PolynomialRegeression(deg = 3, GD = False)\n",
    "    print(fx.data['x'])\n",
    "    X = model.preprocessPolynomialFeatures(fx.data['x'])\n",
    "    y = fx.data['y']\n",
    "    print(X)\n",
    "    print(np.array(X).shape, len(y))\n",
    "    model.fit(X, y)\n"
   ]
  }
 ],
 "metadata": {
  "kernelspec": {
   "display_name": "Python 3",
   "language": "python",
   "name": "python3"
  },
  "language_info": {
   "codemirror_mode": {
    "name": "ipython",
    "version": 3
   },
   "file_extension": ".py",
   "mimetype": "text/x-python",
   "name": "python",
   "nbconvert_exporter": "python",
   "pygments_lexer": "ipython3",
   "version": "3.7.0"
  }
 },
 "nbformat": 4,
 "nbformat_minor": 2
}
