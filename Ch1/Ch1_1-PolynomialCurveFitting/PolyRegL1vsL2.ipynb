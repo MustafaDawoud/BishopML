{
 "cells": [
  {
   "cell_type": "markdown",
   "metadata": {},
   "source": [
    "'''\n",
    "L1 Error and Regularization vs L2 Error and Regularization\n",
    "'''"
   ]
  },
  {
   "cell_type": "code",
   "execution_count": 2,
   "metadata": {},
   "outputs": [],
   "source": [
    "import numpy as np\n",
    "import math"
   ]
  },
  {
   "cell_type": "code",
   "execution_count": 3,
   "metadata": {},
   "outputs": [],
   "source": [
    "class PolynomialRegeression:\n",
    "    def __init__(deg = 1, l2_err = True, l1_err = False, l2_reg = False, l1_reg = False, gradient_desc = True, normal = False):\n",
    "        self.w = []\n",
    "        self.degree = deg\n",
    "        self.l2_err = l2_err\n",
    "        self.l1_err = l1_err\n",
    "        self.l2_reg = l2_reg\n",
    "        self.l1_reg = l1_reg\n",
    "        self.gradient_desc = gradient_desc\n",
    "        self.normal = normal\n",
    "    \n",
    "    def predict(X):\n",
    "        return self.w.dot(X)\n",
    "    \n",
    "    def cost_function(X, y):\n",
    "        predictions = predict(X)\n",
    "\n",
    "        # Matrix math lets use do this without looping\n",
    "        sq_error = (predictions - y)**2\n",
    "\n",
    "        # Return average squared error among predictions\n",
    "        return 1.0/(2*N) * sq_error.sum()\n",
    "\n",
    "    def fit(X, y):\n",
    "        if len(X) == 0 or len(X[0]) == 0:\n",
    "            raise ValueError('X must have a shape greater than 0 columns or 0 rows') \n",
    "        \n",
    "        if len(X) != len(y):\n",
    "            raise ValueError('X and y must have the same number of rows')\n",
    "        \n",
    "        self.w = np.random.randn(len(X[0]) + 1) #+1 for bias\n",
    "        \n",
    "        if l2_err:\n",
    "            if self.gradient_descent:\n",
    "                alpha = 0.5\n",
    "                tolerance = 1e-5\n",
    "                reg_err = math.pow(w.dot(w), 2)\n",
    "                while true:\n",
    "                    for index, i in enumerate(X):\n",
    "                        for idx in range(0, len(i)):\n",
    "                            w[idx] = w[idx] - alpha*(w.dot(i) - y[idx])*X[index][idx] + \n",
    "                    \n",
    "    "
   ]
  },
  {
   "cell_type": "code",
   "execution_count": 4,
   "metadata": {},
   "outputs": [
    {
     "name": "stdout",
     "output_type": "stream",
     "text": [
      "10.0\n"
     ]
    }
   ],
   "source": [
    "a = 10\n",
    "print(np.mean(a))"
   ]
  },
  {
   "cell_type": "code",
   "execution_count": null,
   "metadata": {},
   "outputs": [],
   "source": []
  }
 ],
 "metadata": {
  "kernelspec": {
   "display_name": "Python 3",
   "language": "python",
   "name": "python3"
  },
  "language_info": {
   "codemirror_mode": {
    "name": "ipython",
    "version": 3
   },
   "file_extension": ".py",
   "mimetype": "text/x-python",
   "name": "python",
   "nbconvert_exporter": "python",
   "pygments_lexer": "ipython3",
   "version": "3.7.0"
  }
 },
 "nbformat": 4,
 "nbformat_minor": 2
}
