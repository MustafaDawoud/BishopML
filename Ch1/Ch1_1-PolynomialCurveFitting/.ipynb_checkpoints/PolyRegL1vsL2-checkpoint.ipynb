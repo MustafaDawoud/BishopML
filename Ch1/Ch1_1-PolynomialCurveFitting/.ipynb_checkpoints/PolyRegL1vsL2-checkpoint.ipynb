{
 "cells": [
  {
   "cell_type": "markdown",
   "metadata": {},
   "source": [
    "'''\n",
    "L1 Error and Regularization vs L2 Error and Regularization\n",
    "'''"
   ]
  },
  {
   "cell_type": "code",
   "execution_count": 5,
   "metadata": {},
   "outputs": [
    {
     "name": "stdout",
     "output_type": "stream",
     "text": [
      "importing Jupyter notebook from GenerateData.ipynb\n"
     ]
    },
    {
     "data": {
      "text/plain": [
       "<Figure size 640x480 with 1 Axes>"
      ]
     },
     "metadata": {},
     "output_type": "display_data"
    },
    {
     "name": "stdout",
     "output_type": "stream",
     "text": [
      "0.0    0.0\n",
      "0.1    0.1\n",
      "0.2    0.2\n",
      "0.3    0.3\n",
      "0.4    0.4\n",
      "0.5    0.5\n",
      "0.6    0.6\n",
      "0.7    0.7\n",
      "0.8    0.8\n",
      "0.9    0.9\n",
      "Name: x, dtype: float64\n"
     ]
    }
   ],
   "source": [
    "import import_ipynb\n",
    "import GenerateData\n",
    "from GenerateData import Data\n",
    "import numpy as np\n",
    "import math\n",
    "import pandas as pd\n",
    "import matplotlib.pyplot as plt"
   ]
  },
  {
   "cell_type": "code",
   "execution_count": 13,
   "metadata": {},
   "outputs": [],
   "source": [
    "class PolynomialRegeression:\n",
    "    def __init__(self, deg = 1, l2_err = True, l1_err = False, l2_reg = False, l1_reg = False, gradient_desc = True, normal = False):\n",
    "        self.w = []\n",
    "        self.degree = deg\n",
    "        self.l2_err = l2_err\n",
    "        self.l1_err = l1_err\n",
    "        self.l2_reg = l2_reg\n",
    "        self.l1_reg = l1_reg\n",
    "        self.gradient_desc = gradient_desc\n",
    "        self.normal = normal\n",
    "    \n",
    "    def predict(self, X):\n",
    "        return self.w.dot(X)\n",
    "    \n",
    "    def cost_function(self, X, y):\n",
    "        predictions = predict(X)\n",
    "\n",
    "        # Matrix math lets use do this without looping\n",
    "        sq_error = (predictions - y)**2\n",
    "\n",
    "        # Return average squared error among predictions\n",
    "        return 1.0/(2) * sq_error.sum()\n",
    "    \n",
    "    def visualizeData(self):\n",
    "        x = [i/10 for i in range(0, 10)]\n",
    "        y = self.data['y']\n",
    "        plt.scatter(x,y)\n",
    "        plt.show()\n",
    "        \n",
    "    def fit(self, X, y):\n",
    "        if len(X) == 0 or len(X[0]) == 0:\n",
    "            raise ValueError('X must have a shape greater than 0 columns or 0 rows') \n",
    "        \n",
    "        if len(X) != len(y):\n",
    "            raise ValueError('X and y must have the same number of rows')\n",
    "        \n",
    "        self.w = np.random.randn(len(X[0]) + 1) #+1 for bias\n",
    "        \n",
    "        if self.l2_err:\n",
    "            if self.gradient_desc:\n",
    "                alpha = 0.5\n",
    "                tolerance = 1e-5\n",
    "                reg_err = 0\n",
    "#                 reg_err = math.pow(w.dot(w), 2)\n",
    "                cntr = 0\n",
    "                while True:\n",
    "                    for index, i in enumerate(X):\n",
    "                        for idx in range(0, len(i)):\n",
    "                            self.w[idx] = self.w[idx] - alpha*(self.w.dot(i) - y[idx])*X[index][idx] + reg_err\n",
    "                    cost = cost_function(X, y)\n",
    "                    print(\"Counter: \", cntr, \"Cost: \", cost)\n",
    "                    if cost < tolerance:\n",
    "                        break\n",
    "        \n",
    "                            \n",
    "    "
   ]
  },
  {
   "cell_type": "code",
   "execution_count": 14,
   "metadata": {},
   "outputs": [
    {
     "data": {
      "image/png": "[encoded data removed]",
      "text/plain": [
       "<Figure size 432x288 with 1 Axes>"
      ]
     },
     "metadata": {
      "needs_background": "light"
     },
     "output_type": "display_data"
    },
    {
     "ename": "NameError",
     "evalue": "name 'w' is not defined",
     "output_type": "error",
     "traceback": [
      "\u001b[0;31m---------------------------------------------------------------------------\u001b[0m",
      "\u001b[0;31mNameError\u001b[0m                                 Traceback (most recent call last)",
      "\u001b[0;32m<ipython-input-14-bcf8a5a4f323>\u001b[0m in \u001b[0;36m<module>\u001b[0;34m()\u001b[0m\n\u001b[1;32m      8\u001b[0m     \u001b[0mX\u001b[0m \u001b[0;34m=\u001b[0m \u001b[0mnp\u001b[0m\u001b[0;34m.\u001b[0m\u001b[0marray\u001b[0m\u001b[0;34m(\u001b[0m\u001b[0mX\u001b[0m\u001b[0;34m)\u001b[0m\u001b[0;34m\u001b[0m\u001b[0m\n\u001b[1;32m      9\u001b[0m     \u001b[0my\u001b[0m \u001b[0;34m=\u001b[0m \u001b[0mfx\u001b[0m\u001b[0;34m.\u001b[0m\u001b[0mdata\u001b[0m\u001b[0;34m[\u001b[0m\u001b[0;34m'y'\u001b[0m\u001b[0;34m]\u001b[0m\u001b[0;34m\u001b[0m\u001b[0m\n\u001b[0;32m---> 10\u001b[0;31m     \u001b[0mmodel\u001b[0m\u001b[0;34m.\u001b[0m\u001b[0mfit\u001b[0m\u001b[0;34m(\u001b[0m\u001b[0mX\u001b[0m\u001b[0;34m,\u001b[0m \u001b[0my\u001b[0m\u001b[0;34m)\u001b[0m\u001b[0;34m\u001b[0m\u001b[0m\n\u001b[0m",
      "\u001b[0;32m<ipython-input-13-555be79458e2>\u001b[0m in \u001b[0;36mfit\u001b[0;34m(self, X, y)\u001b[0m\n\u001b[1;32m     47\u001b[0m                     \u001b[0;32mfor\u001b[0m \u001b[0mindex\u001b[0m\u001b[0;34m,\u001b[0m \u001b[0mi\u001b[0m \u001b[0;32min\u001b[0m \u001b[0menumerate\u001b[0m\u001b[0;34m(\u001b[0m\u001b[0mX\u001b[0m\u001b[0;34m)\u001b[0m\u001b[0;34m:\u001b[0m\u001b[0;34m\u001b[0m\u001b[0m\n\u001b[1;32m     48\u001b[0m                         \u001b[0;32mfor\u001b[0m \u001b[0midx\u001b[0m \u001b[0;32min\u001b[0m \u001b[0mrange\u001b[0m\u001b[0;34m(\u001b[0m\u001b[0;36m0\u001b[0m\u001b[0;34m,\u001b[0m \u001b[0mlen\u001b[0m\u001b[0;34m(\u001b[0m\u001b[0mi\u001b[0m\u001b[0;34m)\u001b[0m\u001b[0;34m)\u001b[0m\u001b[0;34m:\u001b[0m\u001b[0;34m\u001b[0m\u001b[0m\n\u001b[0;32m---> 49\u001b[0;31m                             \u001b[0mw\u001b[0m\u001b[0;34m[\u001b[0m\u001b[0midx\u001b[0m\u001b[0;34m]\u001b[0m \u001b[0;34m=\u001b[0m \u001b[0mw\u001b[0m\u001b[0;34m[\u001b[0m\u001b[0midx\u001b[0m\u001b[0;34m]\u001b[0m \u001b[0;34m-\u001b[0m \u001b[0malpha\u001b[0m\u001b[0;34m*\u001b[0m\u001b[0;34m(\u001b[0m\u001b[0mw\u001b[0m\u001b[0;34m.\u001b[0m\u001b[0mdot\u001b[0m\u001b[0;34m(\u001b[0m\u001b[0mi\u001b[0m\u001b[0;34m)\u001b[0m \u001b[0;34m-\u001b[0m \u001b[0my\u001b[0m\u001b[0;34m[\u001b[0m\u001b[0midx\u001b[0m\u001b[0;34m]\u001b[0m\u001b[0;34m)\u001b[0m\u001b[0;34m*\u001b[0m\u001b[0mX\u001b[0m\u001b[0;34m[\u001b[0m\u001b[0mindex\u001b[0m\u001b[0;34m]\u001b[0m\u001b[0;34m[\u001b[0m\u001b[0midx\u001b[0m\u001b[0;34m]\u001b[0m \u001b[0;34m+\u001b[0m \u001b[0mreg_err\u001b[0m\u001b[0;34m\u001b[0m\u001b[0m\n\u001b[0m\u001b[1;32m     50\u001b[0m                     \u001b[0mcost\u001b[0m \u001b[0;34m=\u001b[0m \u001b[0mcost_function\u001b[0m\u001b[0;34m(\u001b[0m\u001b[0mX\u001b[0m\u001b[0;34m,\u001b[0m \u001b[0my\u001b[0m\u001b[0;34m)\u001b[0m\u001b[0;34m\u001b[0m\u001b[0m\n\u001b[1;32m     51\u001b[0m                     \u001b[0mprint\u001b[0m\u001b[0;34m(\u001b[0m\u001b[0;34m\"Counter: \"\u001b[0m\u001b[0;34m,\u001b[0m \u001b[0mcntr\u001b[0m\u001b[0;34m,\u001b[0m \u001b[0;34m\"Cost: \"\u001b[0m\u001b[0;34m,\u001b[0m \u001b[0mcost\u001b[0m\u001b[0;34m)\u001b[0m\u001b[0;34m\u001b[0m\u001b[0m\n",
      "\u001b[0;31mNameError\u001b[0m: name 'w' is not defined"
     ]
    }
   ],
   "source": [
    "if __name__ == \"__main__\":\n",
    "    fx = Data()\n",
    "    fx.generateData()\n",
    "    model = PolynomialRegeression()\n",
    "    X = []\n",
    "    for i in list(fx.data['x']):\n",
    "        X.append([1, i])\n",
    "    X = np.array(X)\n",
    "    y = fx.data['y']\n",
    "    model.fit(X, y)"
   ]
  },
  {
   "cell_type": "code",
   "execution_count": 3,
   "metadata": {},
   "outputs": [
    {
     "name": "stdout",
     "output_type": "stream",
     "text": [
      "[1, 1, 23, 231]\n",
      "'%d' 23\n"
     ]
    }
   ],
   "source": [
    "a = [1, 23, 231]\n",
    "a.insert(0, 1)\n",
    "print(a)\n",
    "\n",
    "c = 23\n",
    "\n",
    "print(\"'%d'\", c)"
   ]
  },
  {
   "cell_type": "code",
   "execution_count": null,
   "metadata": {},
   "outputs": [],
   "source": []
  }
 ],
 "metadata": {
  "kernelspec": {
   "display_name": "Python 3",
   "language": "python",
   "name": "python3"
  },
  "language_info": {
   "codemirror_mode": {
    "name": "ipython",
    "version": 3
   },
   "file_extension": ".py",
   "mimetype": "text/x-python",
   "name": "python",
   "nbconvert_exporter": "python",
   "pygments_lexer": "ipython3",
   "version": "3.7.0"
  }
 },
 "nbformat": 4,
 "nbformat_minor": 2
}
