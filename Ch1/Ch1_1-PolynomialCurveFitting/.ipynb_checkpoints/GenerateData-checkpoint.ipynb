{
 "cells": [
  {
   "cell_type": "code",
   "execution_count": 3,
   "metadata": {},
   "outputs": [],
   "source": [
    "import pandas as pd\n",
    "import random\n",
    "from scipy.stats import norm\n",
    "import numpy as np\n",
    "import matplotlib.pyplot as plt"
   ]
  },
  {
   "cell_type": "code",
   "execution_count": 6,
   "metadata": {},
   "outputs": [],
   "source": [
    "class Data:\n",
    "    '''\n",
    "    Generates Sinusoidal Data with Noise sampled from a Gaussian Distribution of Standard Deviation of 0.2 and mean 0\n",
    "    '''\n",
    "    def __init__(self):\n",
    "        '''\n",
    "        Constructor\n",
    "        '''\n",
    "        self.data = {'x': [], 'y': []} #Stores Randomly Generated Data\n",
    "        self.std = 0.2                 #Standard Deviation\n",
    "        self.mean = 0                  #Mean\n",
    "        \n",
    "    def noise(self):\n",
    "        '''\n",
    "        Randomly Samples with Probability from a Normal Distribution\n",
    "        '''\n",
    "        return np.random.normal(self.mean, self.std, 1)[0]\n",
    "    \n",
    "    def generateTrainData(self, size = 10):\n",
    "        '''\n",
    "        Generate Data Population, not a sample of data\n",
    "        \n",
    "        Params\n",
    "        ======\n",
    "            size (int): number of points to be generated\n",
    "        '''\n",
    "        self.data['x'] = [None]*size\n",
    "        self.data['y'] = [None]*size\n",
    "        for i in range(0, size):\n",
    "            self.data['y'][i] = np.sin(2*np.pi*i/size) + self.noise()\n",
    "            self.data['x'][i] = [i/size]\n",
    "        \n",
    "        self.visualizeData()\n",
    "    \n",
    "    def generateTestData(self, size = 10):\n",
    "        '''\n",
    "        Generate Data Population, not a sample of data\n",
    "        \n",
    "        Params\n",
    "        ======\n",
    "            size (int): number of points to be generated\n",
    "        '''\n",
    "        self.data['x'] = [None]*size\n",
    "        self.data['y'] = [None]*size\n",
    "        for i in range(0, size):\n",
    "            self.data['y'][i] = np.sin(2*np.pi*i/size) + self.noise()\n",
    "            self.data['x'][i] = [i/size + 0.5]\n",
    "        \n",
    "        self.visualizeData()\n",
    "    \n",
    "    def visualizeData(self):\n",
    "        '''\n",
    "        Plotting data\n",
    "        '''\n",
    "        x = self.data['x']\n",
    "        y = self.data['y']\n",
    "        plt.scatter(x,y)\n",
    "        plt.show()"
   ]
  },
  {
   "cell_type": "code",
   "execution_count": 7,
   "metadata": {},
   "outputs": [
    {
     "data": {
      "image/png": "[encoded data removed]",
      "text/plain": [
       "<Figure size 432x288 with 1 Axes>"
      ]
     },
     "metadata": {
      "needs_background": "light"
     },
     "output_type": "display_data"
    },
    {
     "data": {
      "image/png": "[encoded data removed]",
      "text/plain": [
       "<Figure size 432x288 with 1 Axes>"
      ]
     },
     "metadata": {
      "needs_background": "light"
     },
     "output_type": "display_data"
    },
    {
     "name": "stdout",
     "output_type": "stream",
     "text": [
      "[[0.5], [1.5], [2.5], [3.5], [4.5], [5.5], [6.5], [7.5], [8.5], [9.5]]\n"
     ]
    }
   ],
   "source": [
    "if __name__ == \"__main__\":\n",
    "    fx = Data()\n",
    "    fx.generateTrainData()\n",
    "    fx.generateTestData()\n",
    "    print(fx.data['x'])"
   ]
  },
  {
   "cell_type": "code",
   "execution_count": null,
   "metadata": {},
   "outputs": [],
   "source": []
  }
 ],
 "metadata": {
  "kernelspec": {
   "display_name": "Python 3",
   "language": "python",
   "name": "python3"
  },
  "language_info": {
   "codemirror_mode": {
    "name": "ipython",
    "version": 3
   },
   "file_extension": ".py",
   "mimetype": "text/x-python",
   "name": "python",
   "nbconvert_exporter": "python",
   "pygments_lexer": "ipython3",
   "version": "3.7.0"
  }
 },
 "nbformat": 4,
 "nbformat_minor": 2
}
