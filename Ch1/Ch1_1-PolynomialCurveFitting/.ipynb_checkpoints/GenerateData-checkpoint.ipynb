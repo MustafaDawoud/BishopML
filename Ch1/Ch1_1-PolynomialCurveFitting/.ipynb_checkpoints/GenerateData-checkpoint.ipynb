{
 "cells": [
  {
   "cell_type": "code",
   "execution_count": 1,
   "metadata": {},
   "outputs": [],
   "source": [
    "import pandas as pd\n",
    "import random\n",
    "from scipy.stats import norm\n",
    "import numpy as np\n",
    "import matplotlib.pyplot as plt"
   ]
  },
  {
   "cell_type": "code",
   "execution_count": 4,
   "metadata": {},
   "outputs": [],
   "source": [
    "class Data:\n",
    "    '''\n",
    "    Generates Sinusoidal Data with Noise sampled from a Gaussian Distribution of Standard Deviation of 0.2 and mean 0\n",
    "    '''\n",
    "    def __init__(self):\n",
    "        '''\n",
    "        Constructor\n",
    "        '''\n",
    "        self.data = {'x': [], 'y': []} #Stores Randomly Generated Data\n",
    "        self.std = 0.2                 #Standard Deviation\n",
    "        self.mean = 0                  #Mean\n",
    "        \n",
    "    def noise(self):\n",
    "        '''\n",
    "        Randomly Samples with Probability from a Normal Distribution\n",
    "        '''\n",
    "        return np.random.normal(self.mean, self.std, 1)[0]\n",
    "    \n",
    "    def generateDataPopulation(self, size = 10):\n",
    "        '''\n",
    "        Generate Data Population, not a sample of data\n",
    "        \n",
    "        Params\n",
    "        ======\n",
    "            size (int): number of points to be generated\n",
    "        '''\n",
    "        self.data['x'] = [None]*size\n",
    "        self.data['y'] = [None]*size\n",
    "        for i in range(0, size):\n",
    "            self.data['y'][i] = np.sin(2*np.pi*i/size) + self.noise()\n",
    "            self.data['x'][i] = [i]\n",
    "        \n",
    "        self.visualizeData()\n",
    "        \n",
    "    def visualizeData(self):\n",
    "        '''\n",
    "        Plotting data\n",
    "        '''\n",
    "        x = [i for i in range(0, 10)]\n",
    "        y = self.data['y']\n",
    "        plt.scatter(x,y)\n",
    "        plt.show()"
   ]
  },
  {
   "cell_type": "code",
   "execution_count": 5,
   "metadata": {},
   "outputs": [
    {
     "data": {
      "image/png": "[encoded data removed]",
      "text/plain": [
       "<Figure size 432x288 with 1 Axes>"
      ]
     },
     "metadata": {
      "needs_background": "light"
     },
     "output_type": "display_data"
    },
    {
     "name": "stdout",
     "output_type": "stream",
     "text": [
      "[[0], [1], [2], [3], [4], [5], [6], [7], [8], [9]]\n"
     ]
    }
   ],
   "source": [
    "if __name__ == \"__main__\":\n",
    "    fx = Data()\n",
    "    fx.generateDataPopulation()\n",
    "    print(fx.data['x'])"
   ]
  },
  {
   "cell_type": "code",
   "execution_count": null,
   "metadata": {},
   "outputs": [],
   "source": []
  }
 ],
 "metadata": {
  "kernelspec": {
   "display_name": "Python 3",
   "language": "python",
   "name": "python3"
  },
  "language_info": {
   "codemirror_mode": {
    "name": "ipython",
    "version": 3
   },
   "file_extension": ".py",
   "mimetype": "text/x-python",
   "name": "python",
   "nbconvert_exporter": "python",
   "pygments_lexer": "ipython3",
   "version": "3.7.0"
  }
 },
 "nbformat": 4,
 "nbformat_minor": 2
}
