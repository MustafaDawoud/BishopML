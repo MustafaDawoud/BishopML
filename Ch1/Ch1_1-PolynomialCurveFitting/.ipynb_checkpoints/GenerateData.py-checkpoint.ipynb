{
 "cells": [
  {
   "cell_type": "code",
   "execution_count": null,
   "metadata": {},
   "outputs": [],
   "source": [
    "'''\n",
    "Class to generate Sinusoidal Data with Noise sampled from a Gaussian Distribution\n",
    "'''"
   ]
  },
  {
   "cell_type": "code",
   "execution_count": 2,
   "metadata": {},
   "outputs": [],
   "source": [
    "import pandas as pd\n",
    "import random\n",
    "from scipy.stats import norm\n",
    "import numpy as np\n",
    "import matplotlib.pyplot as plt"
   ]
  },
  {
   "cell_type": "code",
   "execution_count": 3,
   "metadata": {},
   "outputs": [
    {
     "data": {
      "image/png": "[encoded data removed]",
      "text/plain": [
       "<Figure size 432x288 with 1 Axes>"
      ]
     },
     "metadata": {
      "needs_background": "light"
     },
     "output_type": "display_data"
    }
   ],
   "source": [
    "class Data:\n",
    "    def __init__(self):\n",
    "        self.data = pd.DataFrame({'y': []})\n",
    "        self.std = 0.35\n",
    "        self.mean = 0.2\n",
    "        \n",
    "    def noise(self):\n",
    "        return np.random.normal(self.mean, self.std, 1)[0]\n",
    "    \n",
    "    def generateData(self, size = 10):\n",
    "        for i in range(0, size):\n",
    "            i /= 10\n",
    "            self.data['y'][i] = np.sin(2*np.pi*i) + self.noise()\n",
    "        \n",
    "        self.visualizeData()\n",
    "    \n",
    "    def visualizeData(self):\n",
    "        x = [i/10 for i in range(0, 10)]\n",
    "        y = self.data['y']\n",
    "        plt.scatter(x,y)\n",
    "        plt.show()\n",
    "    \n",
    "    \n",
    "fx = Data()\n",
    "fx.generateData()"
   ]
  },
  {
   "cell_type": "code",
   "execution_count": null,
   "metadata": {},
   "outputs": [],
   "source": []
  }
 ],
 "metadata": {
  "kernelspec": {
   "display_name": "Python 3",
   "language": "python",
   "name": "python3"
  },
  "language_info": {
   "codemirror_mode": {
    "name": "ipython",
    "version": 3
   },
   "file_extension": ".py",
   "mimetype": "text/x-python",
   "name": "python",
   "nbconvert_exporter": "python",
   "pygments_lexer": "ipython3",
   "version": "3.7.0"
  }
 },
 "nbformat": 4,
 "nbformat_minor": 2
}
